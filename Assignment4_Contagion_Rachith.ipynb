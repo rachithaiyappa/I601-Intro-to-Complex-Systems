{
 "cells": [
  {
   "cell_type": "code",
   "execution_count": 1,
   "metadata": {},
   "outputs": [],
   "source": [
    "import numpy as np\n",
    "import matplotlib.pyplot as plt"
   ]
  },
  {
   "cell_type": "code",
   "execution_count": 2,
   "metadata": {},
   "outputs": [],
   "source": [
    "#function containing the update rules\n",
    "\n",
    "def contagion(params,initials,total_time,time_step):\n",
    "    \n",
    "    #params = [beta, gamma]\n",
    "    #initials = [sus,infec,recov] @ time 0\n",
    "    #total_time = Total time of simualtion\n",
    "    #time_step = update time step\n",
    "\n",
    "    #making sure lists are empty\n",
    "    s = [] #susceptible\n",
    "    i = [] #infected\n",
    "    r = [] #recovered\n",
    "    time = []\n",
    "    \n",
    "    #time length of simulation\n",
    "    time = np.arange(0,total_time+time_step,time_step)\n",
    "    \n",
    "    #length of list\n",
    "    s = [None]*(len(time))\n",
    "    i = [None]*(len(time))\n",
    "    r = [None]*(len(time))\n",
    "    \n",
    "    #given initial conditons\n",
    "    s[0] = initials[0]\n",
    "    i[0] = initials[1]\n",
    "    r[0] = initials[2]\n",
    "    \n",
    "    #update time step\n",
    "    dt = time_step\n",
    "    \n",
    "    beta = params[0] #infection rate\n",
    "    gamma = params[1] #recovery rate\n",
    "    \n",
    "    #main update rule\n",
    "    for t in range(len(time)-1):\n",
    "        s[t+1] = s[t] - dt*(beta*s[t]*i[t])\n",
    "        i[t+1] = i[t] + (dt*beta*s[t]*i[t]) - (dt*gamma*i[t])\n",
    "        r[t+1] = r[t] + (dt*gamma*i[t])\n",
    "        \n",
    "    return time,s,i,r"
   ]
  },
  {
   "cell_type": "code",
   "execution_count": 3,
   "metadata": {},
   "outputs": [
    {
     "data": {
      "text/plain": [
       "Text(0.5, 1.0, '$\\\\beta=$3, $\\\\gamma=$1.6')"
      ]
     },
     "execution_count": 3,
     "metadata": {},
     "output_type": "execute_result"
    },
    {
     "data": {
      "image/png": "[encoded data removed]",
      "text/plain": [
       "<Figure size 432x288 with 1 Axes>"
      ]
     },
     "metadata": {
      "needs_background": "light"
     },
     "output_type": "display_data"
    }
   ],
   "source": [
    "params = [3,1.6]\n",
    "initials = [0.87,0.13,0.00]\n",
    "total_time = 20\n",
    "time_step = 0.001\n",
    "\n",
    "time,s,i,r = contagion(params,initials,total_time,time_step)\n",
    "\n",
    "fig, ax = plt.subplots()\n",
    "ax.plot(time,s,label='s')\n",
    "ax.plot(time,i,label='i')\n",
    "ax.plot(time,r,label='r')\n",
    "ax.set_xlabel('time')\n",
    "ax.set_ylabel('fraction')\n",
    "ax.legend(loc ='best')\n",
    "ax.set_ylim(-0.1,1.1)\n",
    "ax.grid(True)\n",
    "ax.set_title(''r'$\\beta=${}, 'r'$\\gamma=${}'.format(params[0],params[1]))"
   ]
  },
  {
   "cell_type": "code",
   "execution_count": 4,
   "metadata": {},
   "outputs": [
    {
     "name": "stdout",
     "output_type": "stream",
     "text": [
      "i(5.2) = 0.006592961565404772\n",
      "fraction infected when epidemic dies = 0.809294757998985\n",
      "t when i(t)<0.03 = 3.687\n",
      "t when maximumn fraction is infected =  0.914\n",
      "fraction of susceptible when max infected =  0.5332713059448935\n",
      "maximum infected =  0.20575289645412187\n",
      "gamma/beta 0.5333333333333333\n"
     ]
    }
   ],
   "source": [
    "print(\"i(5.2) =\",i[int(5.2/0.001)])\n",
    "print(\"fraction infected when epidemic dies =\",r[-1])\n",
    "print(\"t when i(t)<0.03 =\",round(np.where(np.asarray(i)<0.03)[0][0]*time_step,3))\n",
    "\n",
    "max_i = max(i)\n",
    "max_i_index = i.index(max_i)\n",
    "\n",
    "print(\"t when maximumn fraction is infected = \",max_i_index*time_step)\n",
    "print(\"fraction of susceptible when max infected = \",s[max_i_index])\n",
    "print(\"maximum infected = \",max_i)\n",
    "print(\"gamma/beta\",params[1]/params[0])"
   ]
  },
  {
   "cell_type": "code",
   "execution_count": 5,
   "metadata": {},
   "outputs": [
    {
     "data": {
      "text/plain": [
       "Text(0.5, 1.0, '$\\\\beta=$1.5, $\\\\gamma=$1.6')"
      ]
     },
     "execution_count": 5,
     "metadata": {},
     "output_type": "execute_result"
    },
    {
     "data": {
      "image/png": "[encoded data removed]",
      "text/plain": [
       "<Figure size 432x288 with 1 Axes>"
      ]
     },
     "metadata": {
      "needs_background": "light"
     },
     "output_type": "display_data"
    }
   ],
   "source": [
    "params = [1.5,1.6]\n",
    "initials = [0.87,0.13,0.00]\n",
    "total_time = 20\n",
    "time_step = 0.001\n",
    "\n",
    "time,s,i,r = contagion(params,initials,total_time,time_step)\n",
    "\n",
    "fig, ax = plt.subplots()\n",
    "ax.plot(time,s,label='s')\n",
    "ax.plot(time,i,label='i')\n",
    "ax.plot(time,r,label='r')\n",
    "ax.set_xlabel('time')\n",
    "ax.set_ylabel('fraction')\n",
    "ax.legend(loc ='best')\n",
    "ax.set_ylim(-0.1,1.1)\n",
    "ax.grid(True)\n",
    "ax.set_title(''r'$\\beta=${}, 'r'$\\gamma=${}'.format(params[0],params[1]))"
   ]
  },
  {
   "cell_type": "code",
   "execution_count": 6,
   "metadata": {},
   "outputs": [
    {
     "name": "stdout",
     "output_type": "stream",
     "text": [
      "i(5.2) = 0.005990914992460426\n",
      "fraction infected when epidemic dies = 0.40469891783982864\n",
      "t when i(t)<0.03 = 2.822\n",
      "t when maximumn fraction is infected =  0.0\n",
      "fraction of susceptible when max infected =  0.87\n",
      "maximum infected =  0.13\n",
      "gamma/beta 1.0666666666666667\n"
     ]
    }
   ],
   "source": [
    "print(\"i(5.2) =\",i[int(5.2/0.001)])\n",
    "print(\"fraction infected when epidemic dies =\",r[-1])\n",
    "print(\"t when i(t)<0.03 =\",round(np.where(np.asarray(i)<0.03)[0][0]*time_step,3))\n",
    "\n",
    "max_i = max(i)\n",
    "max_i_index = i.index(max_i)\n",
    "\n",
    "print(\"t when maximumn fraction is infected = \",max_i_index*time_step)\n",
    "print(\"fraction of susceptible when max infected = \",s[max_i_index])\n",
    "print(\"maximum infected = \",max_i)\n",
    "print(\"gamma/beta\",params[1]/params[0])"
   ]
  },
  {
   "cell_type": "code",
   "execution_count": 7,
   "metadata": {},
   "outputs": [
    {
     "data": {
      "text/plain": [
       "Text(0.5, 1.0, '$\\\\beta=$3, $\\\\gamma=$3.2')"
      ]
     },
     "execution_count": 7,
     "metadata": {},
     "output_type": "execute_result"
    },
    {
     "data": {
      "image/png": "[encoded data removed]",
      "text/plain": [
       "<Figure size 432x288 with 1 Axes>"
      ]
     },
     "metadata": {
      "needs_background": "light"
     },
     "output_type": "display_data"
    }
   ],
   "source": [
    "params = [3,3.2]\n",
    "initials = [0.87,0.13,0.00]\n",
    "total_time = 20\n",
    "time_step = 0.001\n",
    "\n",
    "time,s,i,r = contagion(params,initials,total_time,time_step)\n",
    "\n",
    "fig, ax = plt.subplots()\n",
    "ax.plot(time,s,label='s')\n",
    "ax.plot(time,i,label='i')\n",
    "ax.plot(time,r,label='r')\n",
    "ax.set_xlabel('time')\n",
    "ax.set_ylabel('fraction')\n",
    "ax.legend(loc ='best')\n",
    "ax.set_ylim(-0.1,1.1)\n",
    "ax.grid(True)\n",
    "ax.set_title(''r'$\\beta=${}, 'r'$\\gamma=${}'.format(params[0],params[1]))"
   ]
  },
  {
   "cell_type": "code",
   "execution_count": 8,
   "metadata": {},
   "outputs": [
    {
     "name": "stdout",
     "output_type": "stream",
     "text": [
      "i(5.2) = 0.00015344868000865522\n",
      "fraction infected when epidemic dies = 0.40472758115401924\n",
      "t when i(t)<0.03 = 1.411\n",
      "t when maximumn fraction is infected =  0.0\n",
      "fraction of susceptible when max infected =  0.87\n",
      "maximum infected =  0.13\n",
      "gamma/beta 1.0666666666666667\n"
     ]
    }
   ],
   "source": [
    "print(\"i(5.2) =\",i[int(5.2/0.001)])\n",
    "print(\"fraction infected when epidemic dies =\",r[-1])\n",
    "print(\"t when i(t)<0.03 =\",round(np.where(np.asarray(i)<0.03)[0][0]*time_step,3))\n",
    "\n",
    "max_i = max(i)\n",
    "max_i_index = i.index(max_i)\n",
    "\n",
    "print(\"t when maximumn fraction is infected = \",max_i_index*time_step)\n",
    "print(\"fraction of susceptible when max infected = \",s[max_i_index])\n",
    "print(\"maximum infected = \",max_i)\n",
    "print(\"gamma/beta\",params[1]/params[0])"
   ]
  }
 ],
 "metadata": {
  "kernelspec": {
   "display_name": "Python 3",
   "language": "python",
   "name": "python3"
  },
  "language_info": {
   "codemirror_mode": {
    "name": "ipython",
    "version": 3
   },
   "file_extension": ".py",
   "mimetype": "text/x-python",
   "name": "python",
   "nbconvert_exporter": "python",
   "pygments_lexer": "ipython3",
   "version": "3.7.4"
  }
 },
 "nbformat": 4,
 "nbformat_minor": 2
}
